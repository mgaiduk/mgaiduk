{
 "cells": [
  {
   "cell_type": "code",
   "execution_count": 1,
   "id": "985e1f67-c0f4-4655-979f-b5086bb2a9f7",
   "metadata": {},
   "outputs": [],
   "source": [
    "import pandas as pd\n",
    "import pandas_gbq\n",
    "import numpy as np\n",
    "import math\n",
    "from sklearn.model_selection import train_test_split\n",
    "from xgboost import XGBClassifier, XGBRegressor\n",
    "from sklearn.model_selection import GridSearchCV\n",
    "from sklearn.model_selection import PredefinedSplit\n",
    "from sklearn.metrics import confusion_matrix\n",
    "from sklearn.metrics import precision_recall_fscore_support\n",
    "from sklearn.utils import class_weight\n",
    "from sklearn.model_selection import cross_val_score\n",
    "from sklearn.model_selection import RepeatedKFold\n",
    "from sklearn.metrics import mean_squared_error\n",
    "from xgboost import plot_importance\n",
    "import matplotlib.pyplot as plt\n",
    "import operator\n",
    "import pickle\n",
    "from catboost import CatBoostClassifier"
   ]
  },
  {
   "cell_type": "code",
   "execution_count": 4,
   "id": "34561beb-8202-45fb-8504-75a0d5823b1c",
   "metadata": {},
   "outputs": [
    {
     "name": "stderr",
     "output_type": "stream",
     "text": [
      "Query complete after 0.00s: 100%|██████████| 2/2 [00:00<00:00, 1221.58query/s]                        \n",
      "Downloading: 100%|██████████| 566026/566026 [00:05<00:00, 101783.49rows/s]\n"
     ]
    }
   ],
   "source": [
    "%%bigquery data\n",
    "Select * from maximal-furnace-783.madan.sc_live_ranker_data_all"
   ]
  },
  {
   "cell_type": "code",
   "execution_count": 3,
   "id": "0e39279d-1dd3-4e0d-8933-943028f4d55a",
   "metadata": {},
   "outputs": [
    {
     "data": {
      "text/plain": [
       "array(['time', 'distinct_id', 'entityId', 'userGiftAmount_1_DAY',\n",
       "       'userGiftAmount_3_DAY', 'userGiftAmount_7_DAY',\n",
       "       'userGiftAmount_1_HOUR', 'userGiftAmount_6_HOUR',\n",
       "       'userGiftAmount_15_MINUTE', 'userCommentCount_1_DAY',\n",
       "       'userCommentCount_3_DAY', 'userCommentCount_7_DAY',\n",
       "       'userCommentCount_1_HOUR', 'userCommentCount_6_HOUR',\n",
       "       'userCommentCount_15_MINUTE', 'userRequestAudioSeatCount_1_DAY',\n",
       "       'userRequestAudioSeatCount_3_DAY',\n",
       "       'userRequestAudioSeatCount_7_DAY',\n",
       "       'userRequestAudioSeatCount_1_HOUR',\n",
       "       'userRequestAudioSeatCount_6_HOUR',\n",
       "       'userRequestAudioSeatCount_15_MINUTE', 'userRechargeCount_1_DAY',\n",
       "       'userRechargeCount_3_DAY', 'userRechargeCount_7_DAY',\n",
       "       'userRechargeCount_1_HOUR', 'userRechargeCount_6_HOUR',\n",
       "       'userRechargeCount_15_MINUTE', 'userHostChatroomCount_1_DAY',\n",
       "       'userHostChatroomCount_3_DAY', 'userHostChatroomCount_7_DAY',\n",
       "       'userHostChatroomCount_1_HOUR', 'userHostChatroomCount_6_HOUR',\n",
       "       'userHostChatroomCount_15_MINUTE', 'userHostGmvAmount_1_DAY',\n",
       "       'userHostGmvAmount_3_DAY', 'userHostGmvAmount_7_DAY',\n",
       "       'userHostGmvAmount_1_HOUR', 'userHostGmvAmount_6_HOUR',\n",
       "       'userHostGmvAmount_15_MINUTE', 'chatroomJoinCount_15_MINUTE',\n",
       "       'chatroomJoinCount_1_HOUR', 'chatroomJoinCount_6_HOUR',\n",
       "       'chatroomJoinCount_1_DAY', 'chatroomJoinCount_3_DAY',\n",
       "       'chatroomJoinCount_7_DAY', 'chatroomGiftAmount_15_MINUTE',\n",
       "       'chatroomGiftAmount_1_DAY', 'chatroomGiftAmount_1_HOUR',\n",
       "       'chatroomGiftAmount_3_DAY', 'chatroomGiftAmount_6_HOUR',\n",
       "       'chatroomGiftAmount_7_DAY', 'chatroomGiftCount_15_MINUTE',\n",
       "       'chatroomGiftCount_1_HOUR', 'chatroomGiftCount_6_HOUR',\n",
       "       'chatroomGiftCount_1_DAY', 'chatroomGiftCount_3_DAY',\n",
       "       'chatroomGiftCount_7_DAY', 'chatroomCommentCount_15_MINUTE',\n",
       "       'chatroomCommentCount_1_HOUR', 'chatroomCommentCount_6_HOUR',\n",
       "       'chatroomCommentCount_1_DAY', 'chatroomCommentCount_3_DAY',\n",
       "       'chatroomCommentCount_7_DAY', 'chatroomBattleCount_15_MINUTE',\n",
       "       'chatroomBattleCount_1_HOUR', 'chatroomBattleCount_6_HOUR',\n",
       "       'chatroomBattleCount_1_DAY', 'chatroomBattleCount_3_DAY',\n",
       "       'chatroomBattleCount_7_DAY', 'chatroomCurrentActiveCount_LIFETIME',\n",
       "       'chatroomAvailableSeatCount_LIFETIME', 'label'], dtype=object)"
      ]
     },
     "execution_count": 3,
     "metadata": {},
     "output_type": "execute_result"
    }
   ],
   "source": [
    "data.columns.values"
   ]
  },
  {
   "cell_type": "code",
   "execution_count": 7,
   "id": "273f5c48-8574-4b59-aa5d-4223c40b26c0",
   "metadata": {},
   "outputs": [
    {
     "data": {
      "text/plain": [
       "0    560251\n",
       "1      5775\n",
       "Name: label, dtype: int64"
      ]
     },
     "execution_count": 7,
     "metadata": {},
     "output_type": "execute_result"
    }
   ],
   "source": [
    "data.label.value_counts()"
   ]
  },
  {
   "cell_type": "code",
   "execution_count": 9,
   "id": "7c2b0017-81f6-4c4c-b6a8-695d3b322064",
   "metadata": {},
   "outputs": [],
   "source": [
    "neg = data[data.label == 0].sample(n = 100000, replace = False)"
   ]
  },
  {
   "cell_type": "code",
   "execution_count": 10,
   "id": "ad7d66e4-1b5c-43b8-9453-4e23d48e50d5",
   "metadata": {},
   "outputs": [],
   "source": [
    "pos = data[data.label == 1]"
   ]
  },
  {
   "cell_type": "code",
   "execution_count": 11,
   "id": "f6161d01-68eb-45e5-8e80-c9f4583e2fd8",
   "metadata": {},
   "outputs": [],
   "source": [
    "df = pos.append(neg)"
   ]
  },
  {
   "cell_type": "code",
   "execution_count": 12,
   "id": "bc4d707e-6872-43a2-b560-68980e9cf94f",
   "metadata": {},
   "outputs": [
    {
     "data": {
      "text/plain": [
       "(105775, 72)"
      ]
     },
     "execution_count": 12,
     "metadata": {},
     "output_type": "execute_result"
    }
   ],
   "source": [
    "df.shape"
   ]
  },
  {
   "cell_type": "code",
   "execution_count": 13,
   "id": "db01f08e-db99-4c12-aafb-33b3de927c27",
   "metadata": {},
   "outputs": [],
   "source": [
    "df = df.sample(frac = 1)"
   ]
  },
  {
   "cell_type": "code",
   "execution_count": 14,
   "id": "157d0bbf-9f46-4aa5-9dcc-07759c99a45d",
   "metadata": {},
   "outputs": [],
   "source": [
    "from catboost import CatBoostClassifier, Pool, metrics, cv"
   ]
  },
  {
   "cell_type": "code",
   "execution_count": 15,
   "id": "da542a3e-53bb-49d4-8699-437a2dcdc2d4",
   "metadata": {},
   "outputs": [
    {
     "data": {
      "text/plain": [
       "<catboost.core.CatBoostClassifier at 0x7f92dd7df210>"
      ]
     },
     "execution_count": 15,
     "metadata": {},
     "output_type": "execute_result"
    }
   ],
   "source": [
    "y = df['label']\n",
    "X = df.drop(['label', 'time', 'distinct_id', 'entityId'], axis = 1)\n",
    "\n",
    "X_train, X_test, y_train, y_test = train_test_split(X, y, stratify=y, test_size=0.2)\n",
    "\n",
    "classes_weights = class_weight.compute_sample_weight(\n",
    "    class_weight='balanced',\n",
    "    y=y_train\n",
    ")\n",
    "\n",
    "clf = CatBoostClassifier(n_estimators=200, max_depth=7, eta=0.015, eval_metric = metrics.AUC(), logging_level = 'Silent',)\n",
    "\n",
    "clf.fit(X_train, y_train, sample_weight = classes_weights)"
   ]
  },
  {
   "cell_type": "code",
   "execution_count": 16,
   "id": "1663982b-4a68-4cd2-a7d5-2c6ac7ff2803",
   "metadata": {},
   "outputs": [
    {
     "name": "stdout",
     "output_type": "stream",
     "text": [
      "****** Confusion Matrix ******\n",
      "[[12872  7128]\n",
      " [  329   826]]\n",
      "(0.9275110535263582, 0.6475064996454738, 0.7429655581516613, None)\n"
     ]
    }
   ],
   "source": [
    "pred_test = clf.predict(X_test)\n",
    "print(\"****** Confusion Matrix ******\")\n",
    "print(confusion_matrix(y_test, pred_test))\n",
    "\n",
    "print(precision_recall_fscore_support(y_test, pred_test, average = \"weighted\"))"
   ]
  },
  {
   "cell_type": "code",
   "execution_count": 20,
   "id": "8021fe09-6ced-4565-a047-8bda868b9c46",
   "metadata": {},
   "outputs": [
    {
     "data": {
      "text/html": [
       "<div>\n",
       "<style scoped>\n",
       "    .dataframe tbody tr th:only-of-type {\n",
       "        vertical-align: middle;\n",
       "    }\n",
       "\n",
       "    .dataframe tbody tr th {\n",
       "        vertical-align: top;\n",
       "    }\n",
       "\n",
       "    .dataframe thead th {\n",
       "        text-align: right;\n",
       "    }\n",
       "</style>\n",
       "<table border=\"1\" class=\"dataframe\">\n",
       "  <thead>\n",
       "    <tr style=\"text-align: right;\">\n",
       "      <th></th>\n",
       "      <th>Feature Id</th>\n",
       "      <th>Importances</th>\n",
       "    </tr>\n",
       "  </thead>\n",
       "  <tbody>\n",
       "    <tr>\n",
       "      <th>0</th>\n",
       "      <td>userCommentCount_7_DAY</td>\n",
       "      <td>12.837164</td>\n",
       "    </tr>\n",
       "    <tr>\n",
       "      <th>1</th>\n",
       "      <td>chatroomJoinCount_6_HOUR</td>\n",
       "      <td>6.829745</td>\n",
       "    </tr>\n",
       "    <tr>\n",
       "      <th>2</th>\n",
       "      <td>userRequestAudioSeatCount_7_DAY</td>\n",
       "      <td>5.323230</td>\n",
       "    </tr>\n",
       "    <tr>\n",
       "      <th>3</th>\n",
       "      <td>userCommentCount_3_DAY</td>\n",
       "      <td>4.643473</td>\n",
       "    </tr>\n",
       "    <tr>\n",
       "      <th>4</th>\n",
       "      <td>chatroomJoinCount_1_HOUR</td>\n",
       "      <td>4.257922</td>\n",
       "    </tr>\n",
       "    <tr>\n",
       "      <th>...</th>\n",
       "      <td>...</td>\n",
       "      <td>...</td>\n",
       "    </tr>\n",
       "    <tr>\n",
       "      <th>63</th>\n",
       "      <td>userRechargeCount_15_MINUTE</td>\n",
       "      <td>0.069949</td>\n",
       "    </tr>\n",
       "    <tr>\n",
       "      <th>64</th>\n",
       "      <td>chatroomBattleCount_6_HOUR</td>\n",
       "      <td>0.037098</td>\n",
       "    </tr>\n",
       "    <tr>\n",
       "      <th>65</th>\n",
       "      <td>userGiftAmount_1_HOUR</td>\n",
       "      <td>0.026594</td>\n",
       "    </tr>\n",
       "    <tr>\n",
       "      <th>66</th>\n",
       "      <td>userRechargeCount_1_HOUR</td>\n",
       "      <td>0.008460</td>\n",
       "    </tr>\n",
       "    <tr>\n",
       "      <th>67</th>\n",
       "      <td>chatroomCurrentActiveCount_LIFETIME</td>\n",
       "      <td>0.000000</td>\n",
       "    </tr>\n",
       "  </tbody>\n",
       "</table>\n",
       "<p>68 rows × 2 columns</p>\n",
       "</div>"
      ],
      "text/plain": [
       "                             Feature Id  Importances\n",
       "0                userCommentCount_7_DAY    12.837164\n",
       "1              chatroomJoinCount_6_HOUR     6.829745\n",
       "2       userRequestAudioSeatCount_7_DAY     5.323230\n",
       "3                userCommentCount_3_DAY     4.643473\n",
       "4              chatroomJoinCount_1_HOUR     4.257922\n",
       "..                                  ...          ...\n",
       "63          userRechargeCount_15_MINUTE     0.069949\n",
       "64           chatroomBattleCount_6_HOUR     0.037098\n",
       "65                userGiftAmount_1_HOUR     0.026594\n",
       "66             userRechargeCount_1_HOUR     0.008460\n",
       "67  chatroomCurrentActiveCount_LIFETIME     0.000000\n",
       "\n",
       "[68 rows x 2 columns]"
      ]
     },
     "execution_count": 20,
     "metadata": {},
     "output_type": "execute_result"
    }
   ],
   "source": [
    "clf.get_feature_importance(prettified = True)"
   ]
  },
  {
   "cell_type": "code",
   "execution_count": null,
   "id": "0d695506-6da8-4af2-a450-4efd7c83bc17",
   "metadata": {},
   "outputs": [],
   "source": []
  },
  {
   "cell_type": "code",
   "execution_count": null,
   "id": "531669db-d479-4ecf-b724-1542b4ccd337",
   "metadata": {},
   "outputs": [],
   "source": []
  }
 ],
 "metadata": {
  "environment": {
   "kernel": "python3",
   "name": "common-cu110.m96",
   "type": "gcloud",
   "uri": "gcr.io/deeplearning-platform-release/base-cu110:m96"
  },
  "kernelspec": {
   "display_name": "Python 3",
   "language": "python",
   "name": "python3"
  },
  "language_info": {
   "codemirror_mode": {
    "name": "ipython",
    "version": 3
   },
   "file_extension": ".py",
   "mimetype": "text/x-python",
   "name": "python",
   "nbconvert_exporter": "python",
   "pygments_lexer": "ipython3",
   "version": "3.7.12"
  }
 },
 "nbformat": 4,
 "nbformat_minor": 5
}
