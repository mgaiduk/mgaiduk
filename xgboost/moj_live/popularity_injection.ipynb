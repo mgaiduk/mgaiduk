{
 "cells": [
  {
   "cell_type": "code",
   "execution_count": 1,
   "id": "df9a0b9e",
   "metadata": {},
   "outputs": [],
   "source": [
    "from google.cloud import bigquery\n",
    "import pandas as pd"
   ]
  },
  {
   "cell_type": "code",
   "execution_count": 25,
   "id": "d8b9c9eb",
   "metadata": {},
   "outputs": [
    {
     "data": {
      "text/html": [
       "<div>\n",
       "<style scoped>\n",
       "    .dataframe tbody tr th:only-of-type {\n",
       "        vertical-align: middle;\n",
       "    }\n",
       "\n",
       "    .dataframe tbody tr th {\n",
       "        vertical-align: top;\n",
       "    }\n",
       "\n",
       "    .dataframe thead th {\n",
       "        text-align: right;\n",
       "    }\n",
       "</style>\n",
       "<table border=\"1\" class=\"dataframe\">\n",
       "  <thead>\n",
       "    <tr style=\"text-align: right;\">\n",
       "      <th></th>\n",
       "      <th>livestreamId</th>\n",
       "      <th>requestId</th>\n",
       "      <th>timeSpent</th>\n",
       "      <th>score</th>\n",
       "      <th>duration_from_exit</th>\n",
       "    </tr>\n",
       "  </thead>\n",
       "  <tbody>\n",
       "    <tr>\n",
       "      <th>0</th>\n",
       "      <td>0007cbcc-400a-4b8a-a22e-0f281c371a27</td>\n",
       "      <td>o21hxBLdq</td>\n",
       "      <td>1690</td>\n",
       "      <td>7.585685</td>\n",
       "      <td>&lt;NA&gt;</td>\n",
       "    </tr>\n",
       "    <tr>\n",
       "      <th>1</th>\n",
       "      <td>000addb3-88da-4da5-a1f1-bd612caff8b5</td>\n",
       "      <td>cuVbVR3no</td>\n",
       "      <td>2280</td>\n",
       "      <td>8.024640</td>\n",
       "      <td>&lt;NA&gt;</td>\n",
       "    </tr>\n",
       "    <tr>\n",
       "      <th>2</th>\n",
       "      <td>000addb3-88da-4da5-a1f1-bd612caff8b5</td>\n",
       "      <td>RxSrITK0R</td>\n",
       "      <td>27405</td>\n",
       "      <td>8.075931</td>\n",
       "      <td>182293</td>\n",
       "    </tr>\n",
       "    <tr>\n",
       "      <th>3</th>\n",
       "      <td>000addb3-88da-4da5-a1f1-bd612caff8b5</td>\n",
       "      <td>MsMj0ema2</td>\n",
       "      <td>10846</td>\n",
       "      <td>8.501244</td>\n",
       "      <td>4576</td>\n",
       "    </tr>\n",
       "    <tr>\n",
       "      <th>4</th>\n",
       "      <td>000b7b3a-96bf-480f-8a6c-391187ea4668</td>\n",
       "      <td>5bjhxs-pi</td>\n",
       "      <td>1583</td>\n",
       "      <td>7.627956</td>\n",
       "      <td>&lt;NA&gt;</td>\n",
       "    </tr>\n",
       "    <tr>\n",
       "      <th>...</th>\n",
       "      <td>...</td>\n",
       "      <td>...</td>\n",
       "      <td>...</td>\n",
       "      <td>...</td>\n",
       "      <td>...</td>\n",
       "    </tr>\n",
       "    <tr>\n",
       "      <th>995</th>\n",
       "      <td>00e33d04-76bf-4e4a-b228-5badbaeea3f0</td>\n",
       "      <td>SgFCaBIv_</td>\n",
       "      <td>1663</td>\n",
       "      <td>9.931102</td>\n",
       "      <td>&lt;NA&gt;</td>\n",
       "    </tr>\n",
       "    <tr>\n",
       "      <th>996</th>\n",
       "      <td>00e33d04-76bf-4e4a-b228-5badbaeea3f0</td>\n",
       "      <td>AuTX92Oqq</td>\n",
       "      <td>1563</td>\n",
       "      <td>9.931102</td>\n",
       "      <td>&lt;NA&gt;</td>\n",
       "    </tr>\n",
       "    <tr>\n",
       "      <th>997</th>\n",
       "      <td>00e33d04-76bf-4e4a-b228-5badbaeea3f0</td>\n",
       "      <td>63k3CJZpO</td>\n",
       "      <td>2276</td>\n",
       "      <td>9.931102</td>\n",
       "      <td>&lt;NA&gt;</td>\n",
       "    </tr>\n",
       "    <tr>\n",
       "      <th>998</th>\n",
       "      <td>00e33d04-76bf-4e4a-b228-5badbaeea3f0</td>\n",
       "      <td>Sl3PMBvvG</td>\n",
       "      <td>1508</td>\n",
       "      <td>9.931102</td>\n",
       "      <td>&lt;NA&gt;</td>\n",
       "    </tr>\n",
       "    <tr>\n",
       "      <th>999</th>\n",
       "      <td>00e33d04-76bf-4e4a-b228-5badbaeea3f0</td>\n",
       "      <td>7SoFvuDzi</td>\n",
       "      <td>2273</td>\n",
       "      <td>9.931102</td>\n",
       "      <td>&lt;NA&gt;</td>\n",
       "    </tr>\n",
       "  </tbody>\n",
       "</table>\n",
       "<p>1000 rows × 5 columns</p>\n",
       "</div>"
      ],
      "text/plain": [
       "                             livestreamId  requestId  timeSpent     score   \n",
       "0    0007cbcc-400a-4b8a-a22e-0f281c371a27  o21hxBLdq       1690  7.585685  \\\n",
       "1    000addb3-88da-4da5-a1f1-bd612caff8b5  cuVbVR3no       2280  8.024640   \n",
       "2    000addb3-88da-4da5-a1f1-bd612caff8b5  RxSrITK0R      27405  8.075931   \n",
       "3    000addb3-88da-4da5-a1f1-bd612caff8b5  MsMj0ema2      10846  8.501244   \n",
       "4    000b7b3a-96bf-480f-8a6c-391187ea4668  5bjhxs-pi       1583  7.627956   \n",
       "..                                    ...        ...        ...       ...   \n",
       "995  00e33d04-76bf-4e4a-b228-5badbaeea3f0  SgFCaBIv_       1663  9.931102   \n",
       "996  00e33d04-76bf-4e4a-b228-5badbaeea3f0  AuTX92Oqq       1563  9.931102   \n",
       "997  00e33d04-76bf-4e4a-b228-5badbaeea3f0  63k3CJZpO       2276  9.931102   \n",
       "998  00e33d04-76bf-4e4a-b228-5badbaeea3f0  Sl3PMBvvG       1508  9.931102   \n",
       "999  00e33d04-76bf-4e4a-b228-5badbaeea3f0  7SoFvuDzi       2273  9.931102   \n",
       "\n",
       "     duration_from_exit  \n",
       "0                  <NA>  \n",
       "1                  <NA>  \n",
       "2                182293  \n",
       "3                  4576  \n",
       "4                  <NA>  \n",
       "..                  ...  \n",
       "995                <NA>  \n",
       "996                <NA>  \n",
       "997                <NA>  \n",
       "998                <NA>  \n",
       "999                <NA>  \n",
       "\n",
       "[1000 rows x 5 columns]"
      ]
     },
     "execution_count": 25,
     "metadata": {},
     "output_type": "execute_result"
    }
   ],
   "source": [
    "client = bigquery.Client()\n",
    "query = \"\"\"\n",
    "SELECT * FROM `maximal-furnace-783.mgaiduk.popularity_injection_scores` LIMIT 1000\n",
    "\"\"\"\n",
    "df = client.query(query).to_dataframe()\n",
    "df"
   ]
  },
  {
   "cell_type": "code",
   "execution_count": 36,
   "id": "70a5c789",
   "metadata": {},
   "outputs": [
    {
     "data": {
      "text/html": [
       "<div>\n",
       "<style scoped>\n",
       "    .dataframe tbody tr th:only-of-type {\n",
       "        vertical-align: middle;\n",
       "    }\n",
       "\n",
       "    .dataframe tbody tr th {\n",
       "        vertical-align: top;\n",
       "    }\n",
       "\n",
       "    .dataframe thead th {\n",
       "        text-align: right;\n",
       "    }\n",
       "</style>\n",
       "<table border=\"1\" class=\"dataframe\">\n",
       "  <thead>\n",
       "    <tr style=\"text-align: right;\">\n",
       "      <th></th>\n",
       "      <th>livestreamId</th>\n",
       "      <th>requestId</th>\n",
       "      <th>timeSpent</th>\n",
       "      <th>score</th>\n",
       "      <th>duration_from_exit</th>\n",
       "      <th>positive</th>\n",
       "    </tr>\n",
       "  </thead>\n",
       "  <tbody>\n",
       "    <tr>\n",
       "      <th>0</th>\n",
       "      <td>0007cbcc-400a-4b8a-a22e-0f281c371a27</td>\n",
       "      <td>o21hxBLdq</td>\n",
       "      <td>1690</td>\n",
       "      <td>7.585685</td>\n",
       "      <td>&lt;NA&gt;</td>\n",
       "      <td>False</td>\n",
       "    </tr>\n",
       "    <tr>\n",
       "      <th>1</th>\n",
       "      <td>000addb3-88da-4da5-a1f1-bd612caff8b5</td>\n",
       "      <td>cuVbVR3no</td>\n",
       "      <td>2280</td>\n",
       "      <td>8.024640</td>\n",
       "      <td>&lt;NA&gt;</td>\n",
       "      <td>False</td>\n",
       "    </tr>\n",
       "    <tr>\n",
       "      <th>2</th>\n",
       "      <td>000addb3-88da-4da5-a1f1-bd612caff8b5</td>\n",
       "      <td>RxSrITK0R</td>\n",
       "      <td>27405</td>\n",
       "      <td>8.075931</td>\n",
       "      <td>182293</td>\n",
       "      <td>True</td>\n",
       "    </tr>\n",
       "    <tr>\n",
       "      <th>3</th>\n",
       "      <td>000addb3-88da-4da5-a1f1-bd612caff8b5</td>\n",
       "      <td>MsMj0ema2</td>\n",
       "      <td>10846</td>\n",
       "      <td>8.501244</td>\n",
       "      <td>4576</td>\n",
       "      <td>True</td>\n",
       "    </tr>\n",
       "    <tr>\n",
       "      <th>4</th>\n",
       "      <td>000b7b3a-96bf-480f-8a6c-391187ea4668</td>\n",
       "      <td>5bjhxs-pi</td>\n",
       "      <td>1583</td>\n",
       "      <td>7.627956</td>\n",
       "      <td>&lt;NA&gt;</td>\n",
       "      <td>False</td>\n",
       "    </tr>\n",
       "    <tr>\n",
       "      <th>...</th>\n",
       "      <td>...</td>\n",
       "      <td>...</td>\n",
       "      <td>...</td>\n",
       "      <td>...</td>\n",
       "      <td>...</td>\n",
       "      <td>...</td>\n",
       "    </tr>\n",
       "    <tr>\n",
       "      <th>995</th>\n",
       "      <td>00e33d04-76bf-4e4a-b228-5badbaeea3f0</td>\n",
       "      <td>SgFCaBIv_</td>\n",
       "      <td>1663</td>\n",
       "      <td>9.931102</td>\n",
       "      <td>&lt;NA&gt;</td>\n",
       "      <td>False</td>\n",
       "    </tr>\n",
       "    <tr>\n",
       "      <th>996</th>\n",
       "      <td>00e33d04-76bf-4e4a-b228-5badbaeea3f0</td>\n",
       "      <td>AuTX92Oqq</td>\n",
       "      <td>1563</td>\n",
       "      <td>9.931102</td>\n",
       "      <td>&lt;NA&gt;</td>\n",
       "      <td>False</td>\n",
       "    </tr>\n",
       "    <tr>\n",
       "      <th>997</th>\n",
       "      <td>00e33d04-76bf-4e4a-b228-5badbaeea3f0</td>\n",
       "      <td>63k3CJZpO</td>\n",
       "      <td>2276</td>\n",
       "      <td>9.931102</td>\n",
       "      <td>&lt;NA&gt;</td>\n",
       "      <td>False</td>\n",
       "    </tr>\n",
       "    <tr>\n",
       "      <th>998</th>\n",
       "      <td>00e33d04-76bf-4e4a-b228-5badbaeea3f0</td>\n",
       "      <td>Sl3PMBvvG</td>\n",
       "      <td>1508</td>\n",
       "      <td>9.931102</td>\n",
       "      <td>&lt;NA&gt;</td>\n",
       "      <td>False</td>\n",
       "    </tr>\n",
       "    <tr>\n",
       "      <th>999</th>\n",
       "      <td>00e33d04-76bf-4e4a-b228-5badbaeea3f0</td>\n",
       "      <td>7SoFvuDzi</td>\n",
       "      <td>2273</td>\n",
       "      <td>9.931102</td>\n",
       "      <td>&lt;NA&gt;</td>\n",
       "      <td>False</td>\n",
       "    </tr>\n",
       "  </tbody>\n",
       "</table>\n",
       "<p>1000 rows × 6 columns</p>\n",
       "</div>"
      ],
      "text/plain": [
       "                             livestreamId  requestId  timeSpent     score   \n",
       "0    0007cbcc-400a-4b8a-a22e-0f281c371a27  o21hxBLdq       1690  7.585685  \\\n",
       "1    000addb3-88da-4da5-a1f1-bd612caff8b5  cuVbVR3no       2280  8.024640   \n",
       "2    000addb3-88da-4da5-a1f1-bd612caff8b5  RxSrITK0R      27405  8.075931   \n",
       "3    000addb3-88da-4da5-a1f1-bd612caff8b5  MsMj0ema2      10846  8.501244   \n",
       "4    000b7b3a-96bf-480f-8a6c-391187ea4668  5bjhxs-pi       1583  7.627956   \n",
       "..                                    ...        ...        ...       ...   \n",
       "995  00e33d04-76bf-4e4a-b228-5badbaeea3f0  SgFCaBIv_       1663  9.931102   \n",
       "996  00e33d04-76bf-4e4a-b228-5badbaeea3f0  AuTX92Oqq       1563  9.931102   \n",
       "997  00e33d04-76bf-4e4a-b228-5badbaeea3f0  63k3CJZpO       2276  9.931102   \n",
       "998  00e33d04-76bf-4e4a-b228-5badbaeea3f0  Sl3PMBvvG       1508  9.931102   \n",
       "999  00e33d04-76bf-4e4a-b228-5badbaeea3f0  7SoFvuDzi       2273  9.931102   \n",
       "\n",
       "     duration_from_exit  positive  \n",
       "0                  <NA>     False  \n",
       "1                  <NA>     False  \n",
       "2                182293      True  \n",
       "3                  4576      True  \n",
       "4                  <NA>     False  \n",
       "..                  ...       ...  \n",
       "995                <NA>     False  \n",
       "996                <NA>     False  \n",
       "997                <NA>     False  \n",
       "998                <NA>     False  \n",
       "999                <NA>     False  \n",
       "\n",
       "[1000 rows x 6 columns]"
      ]
     },
     "execution_count": 36,
     "metadata": {},
     "output_type": "execute_result"
    }
   ],
   "source": [
    "df[\"positive\"] = -df[\"duration_from_exit\"].isna()\n",
    "df"
   ]
  },
  {
   "cell_type": "code",
   "execution_count": 37,
   "id": "f83fff72",
   "metadata": {},
   "outputs": [
    {
     "data": {
      "text/plain": [
       "0.093"
      ]
     },
     "execution_count": 37,
     "metadata": {},
     "output_type": "execute_result"
    }
   ],
   "source": [
    "df[\"positive\"].mean()"
   ]
  },
  {
   "cell_type": "code",
   "execution_count": 41,
   "id": "29394cc9",
   "metadata": {},
   "outputs": [
    {
     "data": {
      "text/plain": [
       "0.09625"
      ]
     },
     "execution_count": 41,
     "metadata": {},
     "output_type": "execute_result"
    }
   ],
   "source": [
    "df[df[\"score\"] > 8][\"positive\"].mean()"
   ]
  },
  {
   "cell_type": "code",
   "execution_count": 17,
   "id": "e96adfc3",
   "metadata": {},
   "outputs": [
    {
     "data": {
      "text/plain": [
       "7073.354354354355"
      ]
     },
     "execution_count": 17,
     "metadata": {},
     "output_type": "execute_result"
    }
   ],
   "source": [
    "df[\"timeSpent\"].mean()"
   ]
  },
  {
   "cell_type": "code",
   "execution_count": 20,
   "id": "5105c263",
   "metadata": {},
   "outputs": [
    {
     "data": {
      "text/plain": [
       "2477.8314087759813"
      ]
     },
     "execution_count": 20,
     "metadata": {},
     "output_type": "execute_result"
    }
   ],
   "source": [
    "df[df[\"score\"] > 9.5][\"timeSpent\"].mean()"
   ]
  },
  {
   "cell_type": "code",
   "execution_count": 14,
   "id": "93ffa09e",
   "metadata": {},
   "outputs": [
    {
     "data": {
      "text/plain": [
       "22597.633663366338"
      ]
     },
     "execution_count": 14,
     "metadata": {},
     "output_type": "execute_result"
    }
   ],
   "source": [
    "df[df[\"score\"] < 8][\"timeSpent\"].mean()"
   ]
  },
  {
   "cell_type": "code",
   "execution_count": 15,
   "id": "88af0f56",
   "metadata": {},
   "outputs": [
    {
     "data": {
      "text/plain": [
       "3439.5475444096132"
      ]
     },
     "execution_count": 15,
     "metadata": {},
     "output_type": "execute_result"
    }
   ],
   "source": [
    "df[df[\"score\"] > 6][\"timeSpent\"].mean()"
   ]
  },
  {
   "cell_type": "code",
   "execution_count": 16,
   "id": "6ed6e1bc",
   "metadata": {},
   "outputs": [
    {
     "data": {
      "text/plain": [
       "<NA>"
      ]
     },
     "execution_count": 16,
     "metadata": {},
     "output_type": "execute_result"
    }
   ],
   "source": [
    "df[df[\"score\"] < 4][\"timeSpent\"].mean()"
   ]
  }
 ],
 "metadata": {
  "kernelspec": {
   "display_name": "Python 3 (ipykernel)",
   "language": "python",
   "name": "python3"
  },
  "language_info": {
   "codemirror_mode": {
    "name": "ipython",
    "version": 3
   },
   "file_extension": ".py",
   "mimetype": "text/x-python",
   "name": "python",
   "nbconvert_exporter": "python",
   "pygments_lexer": "ipython3",
   "version": "3.9.2"
  }
 },
 "nbformat": 4,
 "nbformat_minor": 5
}
