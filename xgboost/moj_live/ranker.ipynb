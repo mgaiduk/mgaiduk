{
 "cells": [
  {
   "cell_type": "code",
   "execution_count": 60,
   "id": "67f6739f",
   "metadata": {},
   "outputs": [],
   "source": [
    "import pandas as pd\n",
    "import os\n",
    "import json\n",
    "import xgboost as xgb\n",
    "import numpy as np\n",
    "from sklearn import metrics"
   ]
  },
  {
   "cell_type": "code",
   "execution_count": 43,
   "id": "6758c9df",
   "metadata": {
    "scrolled": true
   },
   "outputs": [],
   "source": [
    "df = []\n",
    "data_dir = \"sample_data\"\n",
    "for file in os.listdir():\n",
    "    if not file.endswith(\".parquet\"):\n",
    "        continue\n",
    "    df.append(pd.read_parquet(data_dir + \"/\" + file, engine=\"pyarrow\", use_threads=True))\n",
    "df = pd.concat(df).reset_index(drop=True)"
   ]
  },
  {
   "cell_type": "code",
   "execution_count": 211,
   "id": "8659e2a5",
   "metadata": {},
   "outputs": [
    {
     "data": {
      "text/plain": [
       "0          True\n",
       "1          True\n",
       "2         False\n",
       "3          True\n",
       "4          True\n",
       "          ...  \n",
       "205787     True\n",
       "205788     True\n",
       "205789     True\n",
       "205790     True\n",
       "205791     True\n",
       "Name: audio_status, Length: 205792, dtype: bool"
      ]
     },
     "execution_count": 211,
     "metadata": {},
     "output_type": "execute_result"
    }
   ],
   "source": [
    "df[\"audio_status\"]"
   ]
  },
  {
   "cell_type": "code",
   "execution_count": 70,
   "id": "38056dbe",
   "metadata": {},
   "outputs": [
    {
     "data": {
      "text/plain": [
       "((56416, 119), (149376, 119))"
      ]
     },
     "execution_count": 70,
     "metadata": {},
     "output_type": "execute_result"
    }
   ],
   "source": [
    "eval_df = df[df[\"time\"] >= \"2023-05-16\"]\n",
    "train_df = df[df[\"time\"] < \"2023-05-16\"]\n",
    "eval_df.shape, train_df.shape"
   ]
  },
  {
   "cell_type": "code",
   "execution_count": 45,
   "id": "d584737a",
   "metadata": {},
   "outputs": [],
   "source": [
    "label_cols = [\"label\"]\n",
    "input_cols = [\n",
    "    \"like_2m\",\n",
    "    \"like_4m\",\n",
    "    \"like_8m\",\n",
    "    \"like_16m\",\n",
    "    \"like_30m\",\n",
    "    \"like_1d\",\n",
    "    \"dt_liker_2m\",\n",
    "    \"dt_liker_4m\",\n",
    "    \"dt_liker_8m\",\n",
    "    \"dt_liker_16m\",\n",
    "    \"dt_liker_30m\",\n",
    "    \"dt_liker_1d\",\n",
    "    \"cheer_spent_2m\",\n",
    "    \"cheer_spent_4m\",\n",
    "    \"cheer_spent_8m\",\n",
    "    \"cheer_spent_16m\",\n",
    "    \"cheer_spent_30m\",\n",
    "    \"cheer_spent_1d\",\n",
    "    \"comment_2m\",\n",
    "    \"comment_4m\",\n",
    "    \"comment_8m\",\n",
    "    \"comment_16m\",\n",
    "    \"comment_30m\",\n",
    "    \"comment_1d\",\n",
    "    \"dt_commenter_2m\",\n",
    "    \"dt_commenter_4m\",\n",
    "    \"dt_commenter_8m\",\n",
    "    \"dt_commenter_16m\",\n",
    "    \"dt_commenter_30m\",\n",
    "    \"dt_commenter_1d\",\n",
    "    \"cohost_req_2m\",\n",
    "    \"cohost_req_4m\",\n",
    "    \"cohost_req_8m\",\n",
    "    \"cohost_req_16m\",\n",
    "    \"cohost_req_30m\",\n",
    "    \"cohost_req_1d\",\n",
    "    \"dt_cohost_req_2m\",\n",
    "    \"dt_cohost_req_4m\",\n",
    "    \"dt_cohost_req_8m\",\n",
    "    \"dt_cohost_req_16m\",\n",
    "    \"dt_cohost_req_30m\",\n",
    "    \"dt_cohost_req_1d\",\n",
    "    \"gifts_2m\",\n",
    "    \"gifts_4m\",\n",
    "    \"gifts_8m\",\n",
    "    \"gifts_16m\",\n",
    "    \"gifts_30m\",\n",
    "    \"gifts_1d\",\n",
    "    \"dt_gifter_2m\",\n",
    "    \"dt_gifter_4m\",\n",
    "    \"dt_gifter_8m\",\n",
    "    \"dt_gifter_16m\",\n",
    "    \"dt_gifter_30m\",\n",
    "    \"dt_gifter_1d\",\n",
    "    \"share_2m\",\n",
    "    \"share_4m\",\n",
    "    \"share_8m\",\n",
    "    \"share_16m\",\n",
    "    \"share_30m\",\n",
    "    \"share_1d\",\n",
    "    \"dt_shares_2m\",\n",
    "    \"dt_shares_4m\",\n",
    "    \"dt_shares_8m\",\n",
    "    \"dt_shares_16m\",\n",
    "    \"dt_shares_30m\",\n",
    "    \"dt_shares_1d\",\n",
    "    \"follow_2m\",\n",
    "    \"follow_4m\",\n",
    "    \"follow_8m\",\n",
    "    \"follow_16m\",\n",
    "    \"follow_30m\",\n",
    "    \"follow_1d\",\n",
    "    \"act_vc\",\n",
    "    \"agg_vc\",\n",
    "    \"avg_ts\",\n",
    "    \"live-cross-feature-user-timespent-gifting-affinity-model-v1\",\n",
    "    \"live-promotion_retool_Planned_Live\",\n",
    "    \"live-cross-feature-affinity-model-v2\",\n",
    "    \"live-similar-creator-affinity\",\n",
    "    \"live-short-video-creator-affinity\",\n",
    "    \"live-promotion_retool_Celeb_Live\",\n",
    "    \"live-min-views-agency\",\n",
    "    \"live-promotion_backend_super_power_creator\",\n",
    "    \"live-promotion_retool_Creator_Push\",\n",
    "    \"live-promotion_retool_Good_Content\",\n",
    "    \"live-min-views\",\n",
    "    \"live-popular\",\n",
    "    \"live-popularity-embeddings-affinity-v3\"\n",
    "  ]"
   ]
  },
  {
   "cell_type": "code",
   "execution_count": 215,
   "id": "4a34ec07",
   "metadata": {},
   "outputs": [],
   "source": [
    "input_cols = [\n",
    "    \"audio_status\",\n",
    "    \"video_status\"\n",
    "  ]"
   ]
  },
  {
   "cell_type": "code",
   "execution_count": 216,
   "id": "edef5f63",
   "metadata": {},
   "outputs": [],
   "source": [
    "train_data = train_df[input_cols]\n",
    "train_labels = train_df[label_cols]\n",
    "val_data = eval_df[input_cols]\n",
    "val_labels = eval_df[label_cols]\n",
    "dtrain = xgb.DMatrix(train_data, train_labels)\n",
    "dval = xgb.DMatrix(val_data, val_labels)\n",
    "\n",
    "evallist = [(dtrain, 'train'), (dval, 'eval')]\n",
    "\n",
    "params = {\n",
    "    'max_depth': 2,\n",
    "    'eval_metric': ['auc', 'error', 'logloss'],\n",
    "    'eta': 0.01,\n",
    "    'objective': 'binary:logistic',\n",
    "    }"
   ]
  },
  {
   "cell_type": "code",
   "execution_count": 217,
   "id": "d7b58f4d",
   "metadata": {},
   "outputs": [
    {
     "name": "stdout",
     "output_type": "stream",
     "text": [
      "[0]\ttrain-auc:0.50636\ttrain-error:0.10103\ttrain-logloss:0.68681\teval-auc:0.49761\teval-error:0.09636\teval-logloss:0.68674\n",
      "[1363]\ttrain-auc:0.50822\ttrain-error:0.10103\ttrain-logloss:0.32725\teval-auc:0.51338\teval-error:0.09636\teval-logloss:0.31718\n",
      "model best iteration at 1264, best_score: 0.31718258022476503 and best_ntree_limit: 1265 \n"
     ]
    },
    {
     "data": {
      "text/plain": [
       "0.5133794190164173"
      ]
     },
     "execution_count": 217,
     "metadata": {},
     "output_type": "execute_result"
    }
   ],
   "source": [
    "model = xgb.train(params=params,\n",
    "                dtrain=dtrain,\n",
    "                evals = evallist,\n",
    "                num_boost_round=2000,\n",
    "                verbose_eval=50000,\n",
    "                early_stopping_rounds=100,\n",
    "                # xgb_model = pretrained_model\n",
    "                )\n",
    "\n",
    "print(f\"model best iteration at {model.best_iteration}, best_score: {model.best_score} and best_ntree_limit: {model.best_ntree_limit} \")\n",
    "preds = model.predict(dval)\n",
    "y_true = val_labels[\"label\"].to_numpy()\n",
    "fpr, tpr, thresholds = metrics.roc_curve(y_true, preds, pos_label=1)\n",
    "metrics.auc(fpr, tpr)"
   ]
  },
  {
   "cell_type": "code",
   "execution_count": 126,
   "id": "7f7676d8",
   "metadata": {},
   "outputs": [
    {
     "data": {
      "text/plain": [
       "0.09564662507090187"
      ]
     },
     "execution_count": 126,
     "metadata": {},
     "output_type": "execute_result"
    }
   ],
   "source": [
    "np.mean(val_data[\"live-cross-feature-affinity-model-v2\"] > 0)"
   ]
  },
  {
   "cell_type": "code",
   "execution_count": 65,
   "id": "188e0f60",
   "metadata": {},
   "outputs": [
    {
     "data": {
      "text/plain": [
       "0.539385716555945"
      ]
     },
     "execution_count": 65,
     "metadata": {},
     "output_type": "execute_result"
    }
   ],
   "source": [
    "# v3 auc\n",
    "fpr, tpr, thresholds = metrics.roc_curve(y_true, val_data[\"live-popularity-embeddings-affinity-v3\"], pos_label=1)\n",
    "metrics.auc(fpr, tpr)"
   ]
  },
  {
   "cell_type": "code",
   "execution_count": 72,
   "id": "e03021b4",
   "metadata": {},
   "outputs": [
    {
     "data": {
      "text/plain": [
       "0.6237975925396698"
      ]
     },
     "execution_count": 72,
     "metadata": {},
     "output_type": "execute_result"
    }
   ],
   "source": [
    "eval_df2 = eval_df[eval_df[\"live-popularity-embeddings-affinity-v3\"] != 0]\n",
    "val_data2 = eval_df2[input_cols]\n",
    "val_labels2 = eval_df2[label_cols]\n",
    "dval2 = xgb.DMatrix(val_data2, val_labels2)\n",
    "preds = model.predict(dval2)\n",
    "fpr, tpr, thresholds = metrics.roc_curve(val_labels2[\"label\"], val_data2[\"live-popularity-embeddings-affinity-v3\"], pos_label=1)\n",
    "metrics.auc(fpr, tpr)"
   ]
  },
  {
   "cell_type": "code",
   "execution_count": 73,
   "id": "be1d1454",
   "metadata": {},
   "outputs": [
    {
     "data": {
      "text/plain": [
       "0.6676674640920899"
      ]
     },
     "execution_count": 73,
     "metadata": {},
     "output_type": "execute_result"
    }
   ],
   "source": [
    "fpr, tpr, thresholds = metrics.roc_curve(val_labels2[\"label\"], preds, pos_label=1)\n",
    "metrics.auc(fpr, tpr)"
   ]
  }
 ],
 "metadata": {
  "kernelspec": {
   "display_name": "Python 3 (ipykernel)",
   "language": "python",
   "name": "python3"
  },
  "language_info": {
   "codemirror_mode": {
    "name": "ipython",
    "version": 3
   },
   "file_extension": ".py",
   "mimetype": "text/x-python",
   "name": "python",
   "nbconvert_exporter": "python",
   "pygments_lexer": "ipython3",
   "version": "3.9.2"
  }
 },
 "nbformat": 4,
 "nbformat_minor": 5
}
